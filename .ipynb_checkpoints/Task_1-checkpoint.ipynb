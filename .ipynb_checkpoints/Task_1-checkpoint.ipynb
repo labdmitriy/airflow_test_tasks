{
 "cells": [
  {
   "cell_type": "code",
   "execution_count": 19,
   "metadata": {},
   "outputs": [],
   "source": [
    "from pathlib import Path\n",
    "from operator import itemgetter, add\n",
    "from functools import partial, reduce\n",
    "import re\n",
    "from collections import defaultdict, Counter\n",
    "from itertools import chain"
   ]
  },
  {
   "cell_type": "markdown",
   "metadata": {},
   "source": [
    "https://data.mos.ru/opendata?categoryId=121"
   ]
  },
  {
   "cell_type": "code",
   "execution_count": 20,
   "metadata": {},
   "outputs": [],
   "source": [
    "DATA_PATH = Path('./data')"
   ]
  },
  {
   "cell_type": "code",
   "execution_count": 21,
   "metadata": {},
   "outputs": [
    {
     "data": {
      "text/plain": [
       "{'biblio': PosixPath('data/data-102277-2020-04-02.csv'),\n",
       " 'cinema': PosixPath('data/data-102278-2020-04-02.csv'),\n",
       " 'culture': PosixPath('data/data-102279-2020-04-02.csv'),\n",
       " 'park': PosixPath('data/data-4214-2020-04-02.csv')}"
      ]
     },
     "execution_count": 21,
     "metadata": {},
     "output_type": "execute_result"
    }
   ],
   "source": [
    "file_paths =  {\n",
    "    'biblio': DATA_PATH/'data-102277-2020-04-02.csv',\n",
    "    'cinema': DATA_PATH/'data-102278-2020-04-02.csv',\n",
    "    'culture': DATA_PATH/'data-102279-2020-04-02.csv',\n",
    "    'park':  DATA_PATH/'data-4214-2020-04-02.csv'\n",
    "}\n",
    "\n",
    "file_paths"
   ]
  },
  {
   "cell_type": "code",
   "execution_count": 22,
   "metadata": {},
   "outputs": [],
   "source": [
    "def load_data(file_path, encoding):\n",
    "    with open(file_path, encoding=encoding) as f:\n",
    "        data = f.readlines()     \n",
    "    return data\n",
    "\n",
    "def split_data(elem, sep=';'):\n",
    "    return elem.split(sep)\n",
    "\n",
    "def is_correct_record(elem):\n",
    "    return elem[0] != '\"ID\"'\n",
    "\n",
    "def extract_fields(elem, indices):\n",
    "    return itemgetter(*indices)(elem)\n",
    "\n",
    "extract_addr_counts = partial(extract_fields, indices=[4, 5])\n",
    "extract_park = partial(extract_fields, indices=[5])\n",
    "\n",
    "def has_not_pattern(s, pat):\n",
    "    return not re.search(pat, s)\n",
    "\n",
    "building_pat = re.compile(r'(дом\\s+|корпус\\s+|строение\\s+|владение\\s+)')\n",
    "is_not_building = partial(has_not_pattern, pat=building_pat)\n",
    "\n",
    "def clean_data(elem):\n",
    "    addr = elem[0]\n",
    "    addr = split_data(addr, sep=',')\n",
    "    addr = list(filter(is_not_building, addr))\n",
    "    addr = addr[-1]\n",
    "    addr = addr.strip().lower()\n",
    "    \n",
    "    count = elem[1]\n",
    "    count = count.replace('\"', '')\n",
    "    count = int(count)\n",
    "    \n",
    "    return (addr, count)\n",
    "\n",
    "def clean_park_data(elem):\n",
    "    data = elem.replace('\"', '')\n",
    "    data = data[data.find('«'):]\n",
    "    data = data.lower()\n",
    "    \n",
    "    return (data, 1)\n",
    "\n",
    "def calculate_count(acc, nxt):\n",
    "    acc[nxt[0]] += nxt[1]\n",
    "    return acc\n",
    "\n",
    "def process_data(file_path, encoding):\n",
    "    data = load_data(file_path, encoding=encoding)\n",
    "    data = map(split_data, data)\n",
    "    data = filter(is_correct_record, data)\n",
    "    data = map(extract_addr_counts, data)\n",
    "    data = map(clean_data, data)\n",
    "\n",
    "    return data\n",
    "\n",
    "def process_park_data(file_path, encoding):\n",
    "    data = load_data(file_path, encoding=encoding)\n",
    "    data = map(split_data, data)\n",
    "    data = filter(is_correct_record, data)\n",
    "    data = map(extract_park, data)\n",
    "    data = map(clean_park_data, data)\n",
    "    \n",
    "    return data"
   ]
  },
  {
   "cell_type": "code",
   "execution_count": 23,
   "metadata": {},
   "outputs": [],
   "source": [
    "encoding = 'windows-1251'\n",
    "data_types = ['biblio', 'cinema', 'culture']\n",
    "park_data_type = 'park'"
   ]
  },
  {
   "cell_type": "code",
   "execution_count": 24,
   "metadata": {},
   "outputs": [
    {
     "data": {
      "text/plain": [
       "[('«парк культуры и отдыха «сокольники»', 165),\n",
       " ('город зеленоград', 122),\n",
       " ('«московский государственный объединенный художественный историко-архитектурный и природно-ландшафтный музей-заповедник», усадьба «коломенское»',\n",
       "  121),\n",
       " ('«измайловский парк культуры и отдыха»', 120),\n",
       " ('«московский государственный зоологический парк»', 74)]"
      ]
     },
     "execution_count": 24,
     "metadata": {},
     "output_type": "execute_result"
    }
   ],
   "source": [
    "processed_data = map(lambda x: process_data(file_paths[x], encoding=encoding), data_types)\n",
    "processed_data = chain.from_iterable(processed_data)\n",
    "processed_park_data = process_park_data(file_paths[park_data_type], encoding=encoding)\n",
    "processed_full_data = chain(processed_data, processed_park_data)\n",
    "\n",
    "results = reduce(calculate_count, processed_full_data, defaultdict(int))\n",
    "results = Counter(results)\n",
    "results.most_common(5)"
   ]
  },
  {
   "cell_type": "code",
   "execution_count": null,
   "metadata": {},
   "outputs": [],
   "source": []
  }
 ],
 "metadata": {
  "kernelspec": {
   "display_name": "Python 3.6 ML",
   "language": "python",
   "name": "dlwp"
  },
  "language_info": {
   "codemirror_mode": {
    "name": "ipython",
    "version": 3
   },
   "file_extension": ".py",
   "mimetype": "text/x-python",
   "name": "python",
   "nbconvert_exporter": "python",
   "pygments_lexer": "ipython3",
   "version": "3.6.7"
  }
 },
 "nbformat": 4,
 "nbformat_minor": 4
}
